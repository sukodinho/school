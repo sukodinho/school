{
 "cells": [
  {
   "cell_type": "code",
   "execution_count": 39,
   "metadata": {},
   "outputs": [],
   "source": [
    "import pandas as pd\n",
    "import seaborn as sns\n",
    "import matplotlib.pyplot as plt"
   ]
  },
  {
   "cell_type": "code",
   "execution_count": 2,
   "metadata": {},
   "outputs": [],
   "source": [
    "sns.set_style(\"whitegrid\")"
   ]
  },
  {
   "cell_type": "code",
   "execution_count": 3,
   "metadata": {},
   "outputs": [],
   "source": [
    "data = pd.read_csv(\"DATA.csv\")"
   ]
  },
  {
   "cell_type": "markdown",
   "metadata": {},
   "source": [
    "### DATA ANALYSIS"
   ]
  },
  {
   "cell_type": "code",
   "execution_count": 5,
   "metadata": {},
   "outputs": [
    {
     "data": {
      "text/html": [
       "<div>\n",
       "<style scoped>\n",
       "    .dataframe tbody tr th:only-of-type {\n",
       "        vertical-align: middle;\n",
       "    }\n",
       "\n",
       "    .dataframe tbody tr th {\n",
       "        vertical-align: top;\n",
       "    }\n",
       "\n",
       "    .dataframe thead th {\n",
       "        text-align: right;\n",
       "    }\n",
       "</style>\n",
       "<table border=\"1\" class=\"dataframe\">\n",
       "  <thead>\n",
       "    <tr style=\"text-align: right;\">\n",
       "      <th></th>\n",
       "      <th>STUDENT ID;1;2;3;4;5;6;7;8;9;10;11;12;13;14;15;16;17;18;19;20;21;22;23;24;25;26;27;28;29;30;COURSE ID;GRADE</th>\n",
       "    </tr>\n",
       "  </thead>\n",
       "  <tbody>\n",
       "    <tr>\n",
       "      <th>0</th>\n",
       "      <td>STUDENT1;2;2;3;3;1;2;2;1;1;1;1;2;3;1;2;5;3;2;2...</td>\n",
       "    </tr>\n",
       "    <tr>\n",
       "      <th>1</th>\n",
       "      <td>STUDENT2;2;2;3;3;1;2;2;1;1;1;2;3;2;1;2;1;2;2;2...</td>\n",
       "    </tr>\n",
       "    <tr>\n",
       "      <th>2</th>\n",
       "      <td>STUDENT3;2;2;2;3;2;2;2;2;4;2;2;2;2;1;2;1;2;1;2...</td>\n",
       "    </tr>\n",
       "    <tr>\n",
       "      <th>3</th>\n",
       "      <td>STUDENT4;1;1;1;3;1;2;1;2;1;2;1;2;5;1;2;1;3;1;2...</td>\n",
       "    </tr>\n",
       "    <tr>\n",
       "      <th>4</th>\n",
       "      <td>STUDENT5;2;2;1;3;2;2;1;3;1;4;3;3;2;1;2;4;2;1;1...</td>\n",
       "    </tr>\n",
       "    <tr>\n",
       "      <th>...</th>\n",
       "      <td>...</td>\n",
       "    </tr>\n",
       "    <tr>\n",
       "      <th>140</th>\n",
       "      <td>STUDENT141;2;1;2;3;1;1;2;1;1;2;1;2;2;2;2;4;3;3...</td>\n",
       "    </tr>\n",
       "    <tr>\n",
       "      <th>141</th>\n",
       "      <td>STUDENT142;1;1;2;4;2;2;2;1;4;2;1;1;5;1;2;1;3;2...</td>\n",
       "    </tr>\n",
       "    <tr>\n",
       "      <th>142</th>\n",
       "      <td>STUDENT143;1;1;1;4;2;2;2;1;1;1;3;4;4;1;2;4;2;2...</td>\n",
       "    </tr>\n",
       "    <tr>\n",
       "      <th>143</th>\n",
       "      <td>STUDENT144;2;1;2;4;1;1;1;5;2;3;4;4;1;1;3;3;2;2...</td>\n",
       "    </tr>\n",
       "    <tr>\n",
       "      <th>144</th>\n",
       "      <td>STUDENT145;1;1;1;5;2;2;2;3;1;1;3;1;5;1;2;4;3;1...</td>\n",
       "    </tr>\n",
       "  </tbody>\n",
       "</table>\n",
       "<p>145 rows × 1 columns</p>\n",
       "</div>"
      ],
      "text/plain": [
       "    STUDENT ID;1;2;3;4;5;6;7;8;9;10;11;12;13;14;15;16;17;18;19;20;21;22;23;24;25;26;27;28;29;30;COURSE ID;GRADE\n",
       "0    STUDENT1;2;2;3;3;1;2;2;1;1;1;1;2;3;1;2;5;3;2;2...                                                         \n",
       "1    STUDENT2;2;2;3;3;1;2;2;1;1;1;2;3;2;1;2;1;2;2;2...                                                         \n",
       "2    STUDENT3;2;2;2;3;2;2;2;2;4;2;2;2;2;1;2;1;2;1;2...                                                         \n",
       "3    STUDENT4;1;1;1;3;1;2;1;2;1;2;1;2;5;1;2;1;3;1;2...                                                         \n",
       "4    STUDENT5;2;2;1;3;2;2;1;3;1;4;3;3;2;1;2;4;2;1;1...                                                         \n",
       "..                                                 ...                                                         \n",
       "140  STUDENT141;2;1;2;3;1;1;2;1;1;2;1;2;2;2;2;4;3;3...                                                         \n",
       "141  STUDENT142;1;1;2;4;2;2;2;1;4;2;1;1;5;1;2;1;3;2...                                                         \n",
       "142  STUDENT143;1;1;1;4;2;2;2;1;1;1;3;4;4;1;2;4;2;2...                                                         \n",
       "143  STUDENT144;2;1;2;4;1;1;1;5;2;3;4;4;1;1;3;3;2;2...                                                         \n",
       "144  STUDENT145;1;1;1;5;2;2;2;3;1;1;3;1;5;1;2;4;3;1...                                                         \n",
       "\n",
       "[145 rows x 1 columns]"
      ]
     },
     "execution_count": 5,
     "metadata": {},
     "output_type": "execute_result"
    }
   ],
   "source": [
    "data"
   ]
  },
  {
   "cell_type": "code",
   "execution_count": 6,
   "metadata": {},
   "outputs": [
    {
     "data": {
      "text/plain": [
       "Index(['STUDENT ID;1;2;3;4;5;6;7;8;9;10;11;12;13;14;15;16;17;18;19;20;21;22;23;24;25;26;27;28;29;30;COURSE ID;GRADE'], dtype='object')"
      ]
     },
     "execution_count": 6,
     "metadata": {},
     "output_type": "execute_result"
    }
   ],
   "source": [
    "data.columns"
   ]
  },
  {
   "cell_type": "code",
   "execution_count": 21,
   "metadata": {},
   "outputs": [],
   "source": [
    "columns = [\"STUDENT ID\", \"Age\",\"sex\", \"Graduated High School\", \"Scholarship\", \"Additional work\", \"Regular artistic or sports activity\", \"Do you have a partner\", \"Total salary if available\",\n",
    "\"Transportation to the university\", \"Accommodation\",\"Mothers Edu\", \"Fathers Edu\", \"No Bro/Sis\", \"Parental Status\", \"Mothers Ocu\", \"Fathers Ocu\", \"Weekly Study Hours\",\n",
    "\"Read Freq 1\", \"Read Freq 2\", \"Attendance\", \"Impact of Projects\", \"Attend class\", \"Prep Mid 1\", \"Pred Mid 2\", \"Taking Notes\", \"Listening\", \"Discussion\", \"Flip class\",\n",
    "\"CGPA\", \"ECGPA\", \"Course ID\", \"OUTPUT\"]"
   ]
  },
  {
   "cell_type": "code",
   "execution_count": 25,
   "metadata": {},
   "outputs": [],
   "source": [
    "rows = [[] for _ in range(33)]\n",
    "\n",
    "count = 0\n",
    "for i,row in enumerate(data['STUDENT ID;1;2;3;4;5;6;7;8;9;10;11;12;13;14;15;16;17;18;19;20;21;22;23;24;25;26;27;28;29;30;COURSE ID;GRADE']):\n",
    "    r = row.split(\";\")\n",
    "    for x,y in enumerate(r):\n",
    "        rows[x].append(y)"
   ]
  },
  {
   "cell_type": "code",
   "execution_count": 32,
   "metadata": {},
   "outputs": [],
   "source": [
    "d = {f:g for f,g in list(zip(columns, rows))}\n",
    "new_data = pd.DataFrame(d)"
   ]
  },
  {
   "cell_type": "code",
   "execution_count": 33,
   "metadata": {},
   "outputs": [
    {
     "data": {
      "text/html": [
       "<div>\n",
       "<style scoped>\n",
       "    .dataframe tbody tr th:only-of-type {\n",
       "        vertical-align: middle;\n",
       "    }\n",
       "\n",
       "    .dataframe tbody tr th {\n",
       "        vertical-align: top;\n",
       "    }\n",
       "\n",
       "    .dataframe thead th {\n",
       "        text-align: right;\n",
       "    }\n",
       "</style>\n",
       "<table border=\"1\" class=\"dataframe\">\n",
       "  <thead>\n",
       "    <tr style=\"text-align: right;\">\n",
       "      <th></th>\n",
       "      <th>STUDENT ID</th>\n",
       "      <th>Age</th>\n",
       "      <th>sex</th>\n",
       "      <th>Graduated High School</th>\n",
       "      <th>Scholarship</th>\n",
       "      <th>Additional work</th>\n",
       "      <th>Regular artistic or sports activity</th>\n",
       "      <th>Do you have a partner</th>\n",
       "      <th>Total salary if available</th>\n",
       "      <th>Transportation to the university</th>\n",
       "      <th>...</th>\n",
       "      <th>Prep Mid 1</th>\n",
       "      <th>Pred Mid 2</th>\n",
       "      <th>Taking Notes</th>\n",
       "      <th>Listening</th>\n",
       "      <th>Discussion</th>\n",
       "      <th>Flip class</th>\n",
       "      <th>CGPA</th>\n",
       "      <th>ECGPA</th>\n",
       "      <th>Course ID</th>\n",
       "      <th>OUTPUT</th>\n",
       "    </tr>\n",
       "  </thead>\n",
       "  <tbody>\n",
       "    <tr>\n",
       "      <th>0</th>\n",
       "      <td>STUDENT1</td>\n",
       "      <td>2</td>\n",
       "      <td>2</td>\n",
       "      <td>3</td>\n",
       "      <td>3</td>\n",
       "      <td>1</td>\n",
       "      <td>2</td>\n",
       "      <td>2</td>\n",
       "      <td>1</td>\n",
       "      <td>1</td>\n",
       "      <td>...</td>\n",
       "      <td>1</td>\n",
       "      <td>1</td>\n",
       "      <td>3</td>\n",
       "      <td>2</td>\n",
       "      <td>1</td>\n",
       "      <td>2</td>\n",
       "      <td>1</td>\n",
       "      <td>1</td>\n",
       "      <td>1</td>\n",
       "      <td>1</td>\n",
       "    </tr>\n",
       "    <tr>\n",
       "      <th>1</th>\n",
       "      <td>STUDENT2</td>\n",
       "      <td>2</td>\n",
       "      <td>2</td>\n",
       "      <td>3</td>\n",
       "      <td>3</td>\n",
       "      <td>1</td>\n",
       "      <td>2</td>\n",
       "      <td>2</td>\n",
       "      <td>1</td>\n",
       "      <td>1</td>\n",
       "      <td>...</td>\n",
       "      <td>1</td>\n",
       "      <td>1</td>\n",
       "      <td>3</td>\n",
       "      <td>2</td>\n",
       "      <td>3</td>\n",
       "      <td>2</td>\n",
       "      <td>2</td>\n",
       "      <td>3</td>\n",
       "      <td>1</td>\n",
       "      <td>1</td>\n",
       "    </tr>\n",
       "    <tr>\n",
       "      <th>2</th>\n",
       "      <td>STUDENT3</td>\n",
       "      <td>2</td>\n",
       "      <td>2</td>\n",
       "      <td>2</td>\n",
       "      <td>3</td>\n",
       "      <td>2</td>\n",
       "      <td>2</td>\n",
       "      <td>2</td>\n",
       "      <td>2</td>\n",
       "      <td>4</td>\n",
       "      <td>...</td>\n",
       "      <td>1</td>\n",
       "      <td>1</td>\n",
       "      <td>2</td>\n",
       "      <td>2</td>\n",
       "      <td>1</td>\n",
       "      <td>1</td>\n",
       "      <td>2</td>\n",
       "      <td>2</td>\n",
       "      <td>1</td>\n",
       "      <td>1</td>\n",
       "    </tr>\n",
       "    <tr>\n",
       "      <th>3</th>\n",
       "      <td>STUDENT4</td>\n",
       "      <td>1</td>\n",
       "      <td>1</td>\n",
       "      <td>1</td>\n",
       "      <td>3</td>\n",
       "      <td>1</td>\n",
       "      <td>2</td>\n",
       "      <td>1</td>\n",
       "      <td>2</td>\n",
       "      <td>1</td>\n",
       "      <td>...</td>\n",
       "      <td>1</td>\n",
       "      <td>2</td>\n",
       "      <td>3</td>\n",
       "      <td>2</td>\n",
       "      <td>2</td>\n",
       "      <td>1</td>\n",
       "      <td>3</td>\n",
       "      <td>2</td>\n",
       "      <td>1</td>\n",
       "      <td>1</td>\n",
       "    </tr>\n",
       "    <tr>\n",
       "      <th>4</th>\n",
       "      <td>STUDENT5</td>\n",
       "      <td>2</td>\n",
       "      <td>2</td>\n",
       "      <td>1</td>\n",
       "      <td>3</td>\n",
       "      <td>2</td>\n",
       "      <td>2</td>\n",
       "      <td>1</td>\n",
       "      <td>3</td>\n",
       "      <td>1</td>\n",
       "      <td>...</td>\n",
       "      <td>2</td>\n",
       "      <td>1</td>\n",
       "      <td>2</td>\n",
       "      <td>2</td>\n",
       "      <td>2</td>\n",
       "      <td>1</td>\n",
       "      <td>2</td>\n",
       "      <td>2</td>\n",
       "      <td>1</td>\n",
       "      <td>1</td>\n",
       "    </tr>\n",
       "  </tbody>\n",
       "</table>\n",
       "<p>5 rows × 33 columns</p>\n",
       "</div>"
      ],
      "text/plain": [
       "  STUDENT ID Age sex Graduated High School Scholarship Additional work  \\\n",
       "0   STUDENT1   2   2                     3           3               1   \n",
       "1   STUDENT2   2   2                     3           3               1   \n",
       "2   STUDENT3   2   2                     2           3               2   \n",
       "3   STUDENT4   1   1                     1           3               1   \n",
       "4   STUDENT5   2   2                     1           3               2   \n",
       "\n",
       "  Regular artistic or sports activity Do you have a partner  \\\n",
       "0                                   2                     2   \n",
       "1                                   2                     2   \n",
       "2                                   2                     2   \n",
       "3                                   2                     1   \n",
       "4                                   2                     1   \n",
       "\n",
       "  Total salary if available Transportation to the university  ... Prep Mid 1  \\\n",
       "0                         1                                1  ...          1   \n",
       "1                         1                                1  ...          1   \n",
       "2                         2                                4  ...          1   \n",
       "3                         2                                1  ...          1   \n",
       "4                         3                                1  ...          2   \n",
       "\n",
       "  Pred Mid 2 Taking Notes Listening Discussion Flip class CGPA ECGPA  \\\n",
       "0          1            3         2          1          2    1     1   \n",
       "1          1            3         2          3          2    2     3   \n",
       "2          1            2         2          1          1    2     2   \n",
       "3          2            3         2          2          1    3     2   \n",
       "4          1            2         2          2          1    2     2   \n",
       "\n",
       "  Course ID OUTPUT  \n",
       "0         1      1  \n",
       "1         1      1  \n",
       "2         1      1  \n",
       "3         1      1  \n",
       "4         1      1  \n",
       "\n",
       "[5 rows x 33 columns]"
      ]
     },
     "execution_count": 33,
     "metadata": {},
     "output_type": "execute_result"
    }
   ],
   "source": [
    "new_data.head()"
   ]
  },
  {
   "cell_type": "code",
   "execution_count": 37,
   "metadata": {},
   "outputs": [],
   "source": [
    "grades = new_data[\"OUTPUT\"].value_counts().values\n",
    "n = [\"DD\",\"DC\",\"CC\",\"CB\",\"BB\",\"BA\",\"AA\",\"Fail\"]"
   ]
  },
  {
   "cell_type": "code",
   "execution_count": 63,
   "metadata": {},
   "outputs": [],
   "source": [
    "final = new_data.drop([\"STUDENT ID\"], axis=1).astype(\"Int64\")"
   ]
  },
  {
   "cell_type": "code",
   "execution_count": 40,
   "metadata": {},
   "outputs": [
    {
     "data": {
      "text/plain": [
       "Text(0.5, 1.0, 'Distribution of Students Grades')"
      ]
     },
     "execution_count": 40,
     "metadata": {},
     "output_type": "execute_result"
    },
    {
     "data": {
      "image/png": "[encoded data removed]",
      "text/plain": [
       "<Figure size 432x288 with 1 Axes>"
      ]
     },
     "metadata": {},
     "output_type": "display_data"
    }
   ],
   "source": [
    "(pd.Series(grades, index=n)).plot(kind=\"barh\")\n",
    "plt.title(\"Distribution of Students Grades\")"
   ]
  },
  {
   "cell_type": "code",
   "execution_count": 45,
   "metadata": {},
   "outputs": [
    {
     "data": {
      "text/plain": [
       "Text(0.5, 1.0, 'Distribution of CGPA')"
      ]
     },
     "execution_count": 45,
     "metadata": {},
     "output_type": "execute_result"
    },
    {
     "data": {
      "image/png": "[encoded data removed]",
      "text/plain": [
       "<Figure size 432x288 with 1 Axes>"
      ]
     },
     "metadata": {},
     "output_type": "display_data"
    }
   ],
   "source": [
    "cgpa = [\"<2.00\", \"2.00 - 2.49\", \"2.50 - 2.99\", \"3.00 - 3.49\", \"Above 3.49\"]\n",
    "\n",
    "c = new_data[\"CGPA\"].value_counts().sort_index().values\n",
    "\n",
    "\n",
    "(pd.Series(c, index=cgpa)).plot(kind=\"barh\")\n",
    "plt.title(\"Distribution of CGPA\")"
   ]
  },
  {
   "cell_type": "code",
   "execution_count": 57,
   "metadata": {},
   "outputs": [
    {
     "data": {
      "text/plain": [
       "Text(0.5, 1.0, 'Expected CGPA in Graduation')"
      ]
     },
     "execution_count": 57,
     "metadata": {},
     "output_type": "execute_result"
    },
    {
     "data": {
      "image/png": "[encoded data removed]",
      "text/plain": [
       "<Figure size 432x288 with 1 Axes>"
      ]
     },
     "metadata": {},
     "output_type": "display_data"
    }
   ],
   "source": [
    "g = new_data[\"ECGPA\"].value_counts().sort_index().values\n",
    "(pd.Series(g, index=cgpa[1:])).plot(kind=\"barh\")\n",
    "plt.title(\"Expected CGPA in Graduation\")"
   ]
  },
  {
   "cell_type": "code",
   "execution_count": 61,
   "metadata": {},
   "outputs": [
    {
     "data": {
      "text/plain": [
       "Text(0.5, 1.0, 'Distribution of Age')"
      ]
     },
     "execution_count": 61,
     "metadata": {},
     "output_type": "execute_result"
    },
    {
     "data": {
      "image/png": "[encoded data removed]",
      "text/plain": [
       "<Figure size 432x288 with 1 Axes>"
      ]
     },
     "metadata": {},
     "output_type": "display_data"
    }
   ],
   "source": [
    "a = [\"18-21\",\"22-25\", \"Above 26\"]\n",
    "ag = new_data[\"Age\"].value_counts().sort_index().values\n",
    "\n",
    "(pd.Series(ag, index=a)).plot(kind=\"barh\")\n",
    "plt.title(\"Distribution of Age\")"
   ]
  },
  {
   "cell_type": "code",
   "execution_count": 64,
   "metadata": {},
   "outputs": [
    {
     "data": {
      "text/plain": [
       "<AxesSubplot:>"
      ]
     },
     "execution_count": 64,
     "metadata": {},
     "output_type": "execute_result"
    },
    {
     "data": {
      "image/png": "[encoded data removed]",
      "text/plain": [
       "<Figure size 432x288 with 2 Axes>"
      ]
     },
     "metadata": {},
     "output_type": "display_data"
    }
   ],
   "source": [
    "sns.heatmap(final.corr())"
   ]
  },
  {
   "cell_type": "code",
   "execution_count": 65,
   "metadata": {},
   "outputs": [
    {
     "data": {
      "text/plain": [
       "Text(0.5, 1.0, 'How does listening in class affects grade?')"
      ]
     },
     "execution_count": 65,
     "metadata": {},
     "output_type": "execute_result"
    },
    {
     "data": {
      "image/png": "[encoded data removed]",
      "text/plain": [
       "<Figure size 432x288 with 1 Axes>"
      ]
     },
     "metadata": {},
     "output_type": "display_data"
    }
   ],
   "source": [
    "l = [\"never\", \"sometimes\", \"always\"]\n",
    "\n",
    "li = new_data[\"Listening\"].value_counts().sort_index().values\n",
    "\n",
    "(pd.Series(li, index=l)).plot(kind=\"barh\")\n",
    "plt.title(\"How does listening in class affects grade?\")"
   ]
  },
  {
   "cell_type": "code",
   "execution_count": null,
   "metadata": {},
   "outputs": [],
   "source": []
  },
  {
   "cell_type": "code",
   "execution_count": 52,
   "metadata": {},
   "outputs": [],
   "source": [
    "X = final.drop([\"OUTPUT\"], axis=1)\n",
    "Y = final[\"OUTPUT\"]"
   ]
  },
  {
   "cell_type": "code",
   "execution_count": null,
   "metadata": {},
   "outputs": [],
   "source": []
  }
 ],
 "metadata": {
  "interpreter": {
   "hash": "aee8b7b246df8f9039afb4144a1f6fd8d2ca17a180786b69acc140d282b71a49"
  },
  "kernelspec": {
   "display_name": "Python 3.10.2 64-bit",
   "language": "python",
   "name": "python3"
  },
  "language_info": {
   "codemirror_mode": {
    "name": "ipython",
    "version": 3
   },
   "file_extension": ".py",
   "mimetype": "text/x-python",
   "name": "python",
   "nbconvert_exporter": "python",
   "pygments_lexer": "ipython3",
   "version": "3.10.2"
  },
  "orig_nbformat": 4
 },
 "nbformat": 4,
 "nbformat_minor": 2
}
